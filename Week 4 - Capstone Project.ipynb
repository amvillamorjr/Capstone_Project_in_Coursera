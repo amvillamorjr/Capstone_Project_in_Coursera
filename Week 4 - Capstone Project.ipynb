{
    "nbformat_minor": 1, 
    "cells": [
        {
            "source": "# A description of the problem and a discussion of the background.", 
            "cell_type": "markdown", 
            "metadata": {
                "collapsed": true
            }
        }, 
        {
            "source": "My love for Egyptian food (being a Filipino still living in Cairo for more than two years now) gave me the interest of promoting Egyptian street foods to whoever non-Egyptian person I know, whether I make the campaign here in Cairo or while I am overseas.  One such popular street food is provided by the food chain company Zooba (www.zoobaeats.com).  In 2019, they have begun their first overseas operation with their branch in New York City (https://tinyurl.com/y38kccmo).  I consider this event as a positive sign and as an opportunity for this brand (and the Egyptian street food, in general) to be known in the broader North America market.   Thus, this project aims to inform Zooba\u2019s management if there is a potential to extend its business in Canada, specifically in Toronto.  ", 
            "cell_type": "markdown", 
            "metadata": {}
        }, 
        {
            "source": "# A description of the data and how it will be used to solve the problem. ", 
            "cell_type": "markdown", 
            "metadata": {}
        }, 
        {
            "source": "Preliminary data that will be used in this evaluation would certainly include Foursquare API and its data, primarily, to determine where is best to locate the restaurant within the Toronto district.  Setting up this business would undoubtedly target the Egyptian diaspora, and as such it is vital to know where the vast majority of Egyptians are residing in Toronto.  By targeting the Egyptian diaspora, they too will be instrumental in introducing further the Egyptian food to their network.  It is also essential to know where the concentrations of Arabic restaurants in the areas and to determine how non-Arabs are receptive of Arabic cuisine and street food.    ", 
            "cell_type": "markdown", 
            "metadata": {}
        }, 
        {
            "execution_count": null, 
            "cell_type": "code", 
            "metadata": {}, 
            "outputs": [], 
            "source": ""
        }
    ], 
    "metadata": {
        "kernelspec": {
            "display_name": "Python 3.6", 
            "name": "python3", 
            "language": "python"
        }, 
        "language_info": {
            "mimetype": "text/x-python", 
            "nbconvert_exporter": "python", 
            "version": "3.6.8", 
            "name": "python", 
            "file_extension": ".py", 
            "pygments_lexer": "ipython3", 
            "codemirror_mode": {
                "version": 3, 
                "name": "ipython"
            }
        }
    }, 
    "nbformat": 4
}